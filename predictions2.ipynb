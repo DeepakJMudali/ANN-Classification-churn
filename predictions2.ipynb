{
 "cells": [
  {
   "cell_type": "code",
   "execution_count": 68,
   "id": "4d4d2544",
   "metadata": {},
   "outputs": [
    {
     "name": "stderr",
     "output_type": "stream",
     "text": [
      "WARNING:absl:Compiled the loaded model, but the compiled metrics have yet to be built. `model.compile_metrics` will be empty until you train or evaluate the model.\n"
     ]
    },
    {
     "name": "stdout",
     "output_type": "stream",
     "text": [
      "\u001b[1m1/1\u001b[0m \u001b[32m━━━━━━━━━━━━━━━━━━━━\u001b[0m\u001b[37m\u001b[0m \u001b[1m0s\u001b[0m 61ms/step\n"
     ]
    },
    {
     "data": {
      "text/html": [
       "<div>\n",
       "<style scoped>\n",
       "    .dataframe tbody tr th:only-of-type {\n",
       "        vertical-align: middle;\n",
       "    }\n",
       "\n",
       "    .dataframe tbody tr th {\n",
       "        vertical-align: top;\n",
       "    }\n",
       "\n",
       "    .dataframe thead th {\n",
       "        text-align: right;\n",
       "    }\n",
       "</style>\n",
       "<table border=\"1\" class=\"dataframe\">\n",
       "  <thead>\n",
       "    <tr style=\"text-align: right;\">\n",
       "      <th></th>\n",
       "      <th>CreditScore</th>\n",
       "      <th>Age</th>\n",
       "      <th>Tenure</th>\n",
       "      <th>Balance</th>\n",
       "      <th>NumOfProducts</th>\n",
       "      <th>HasCrCard</th>\n",
       "      <th>IsActiveMember</th>\n",
       "      <th>EstimatedSalary</th>\n",
       "      <th>Gender_encoded</th>\n",
       "      <th>Geography_France</th>\n",
       "      <th>Geography_Germany</th>\n",
       "      <th>Geography_Spain</th>\n",
       "    </tr>\n",
       "  </thead>\n",
       "  <tbody>\n",
       "    <tr>\n",
       "      <th>0</th>\n",
       "      <td>600</td>\n",
       "      <td>40</td>\n",
       "      <td>3</td>\n",
       "      <td>60000</td>\n",
       "      <td>2</td>\n",
       "      <td>1</td>\n",
       "      <td>1</td>\n",
       "      <td>50000</td>\n",
       "      <td>1</td>\n",
       "      <td>1.0</td>\n",
       "      <td>0.0</td>\n",
       "      <td>0.0</td>\n",
       "    </tr>\n",
       "    <tr>\n",
       "      <th>1</th>\n",
       "      <td>700</td>\n",
       "      <td>60</td>\n",
       "      <td>8</td>\n",
       "      <td>80000</td>\n",
       "      <td>5</td>\n",
       "      <td>1</td>\n",
       "      <td>0</td>\n",
       "      <td>65000</td>\n",
       "      <td>0</td>\n",
       "      <td>0.0</td>\n",
       "      <td>1.0</td>\n",
       "      <td>0.0</td>\n",
       "    </tr>\n",
       "    <tr>\n",
       "      <th>2</th>\n",
       "      <td>900</td>\n",
       "      <td>80</td>\n",
       "      <td>10</td>\n",
       "      <td>95000</td>\n",
       "      <td>3</td>\n",
       "      <td>0</td>\n",
       "      <td>1</td>\n",
       "      <td>80000</td>\n",
       "      <td>0</td>\n",
       "      <td>0.0</td>\n",
       "      <td>0.0</td>\n",
       "      <td>1.0</td>\n",
       "    </tr>\n",
       "  </tbody>\n",
       "</table>\n",
       "</div>"
      ],
      "text/plain": [
       "   CreditScore  Age  Tenure  Balance  NumOfProducts  HasCrCard  \\\n",
       "0          600   40       3    60000              2          1   \n",
       "1          700   60       8    80000              5          1   \n",
       "2          900   80      10    95000              3          0   \n",
       "\n",
       "   IsActiveMember  EstimatedSalary  Gender_encoded  Geography_France  \\\n",
       "0               1            50000               1               1.0   \n",
       "1               0            65000               0               0.0   \n",
       "2               1            80000               0               0.0   \n",
       "\n",
       "   Geography_Germany  Geography_Spain  \n",
       "0                0.0              0.0  \n",
       "1                1.0              0.0  \n",
       "2                0.0              1.0  "
      ]
     },
     "execution_count": 68,
     "metadata": {},
     "output_type": "execute_result"
    }
   ],
   "source": [
    "from  tensorflow.keras.models import load_model\n",
    "import pickle\n",
    "import pandas as pd\n",
    "import numpy as np\n",
    "from sklearn.preprocessing import StandardScaler\n",
    "from sklearn.model_selection import train_test_split\n",
    "from sklearn.preprocessing import StandardScaler, LabelEncoder, OneHotEncoder\n",
    "import tensorflow as tf\n",
    "from tensorflow.keras.models import Sequential\n",
    "from tensorflow.keras.layers import Dense, Dropout\n",
    "from tensorflow.keras.callbacks import EarlyStopping, TensorBoard\n",
    "from tensorflow.keras import regularizers\n",
    "from joblib import load\n",
    "import datetime\n",
    "import numpy as np\n",
    "import pickle\n",
    "\n",
    "model = load_model(\"model.h5\")\n",
    "\n",
    "scaler = StandardScaler()\n",
    "input_data = {\n",
    "    \"CreditScore\": [600,700,900],\n",
    "    \"Geography\": [\"France\",\"Germany\",\"Spain\"],\n",
    "    \"Gender\": [\"Male\",\"Female\",\"Female\"],\n",
    "    \"Age\": [40,60,80],\n",
    "    \"Tenure\": [3,8,10],\n",
    "    \"Balance\": [60000,80000,95000],\n",
    "    \"NumOfProducts\": [2,5,3],\n",
    "    \"HasCrCard\": [1,1,0],\n",
    "    \"IsActiveMember\": [1,0,1],\n",
    "    \"EstimatedSalary\": [50000,65000,80000],\n",
    "    \"Exited\":[1,0,1]\n",
    "}\n",
    "\n",
    "\n",
    "## label encoding for gender\n",
    "\n",
    "# input_df = pd.DataFrame({k: [v] for k, v in input_data.items()})\n",
    "input_df = pd.DataFrame(input_data)\n",
    "\n",
    "label_Encoded= LabelEncoder()\n",
    "label_Encoded.fit(input_df [\"Gender\"])\n",
    "oneHot_encoder_geo = OneHotEncoder(sparse_output=False)\n",
    "oneHot_encoder_geo.fit(input_df [[\"Geography\"]])\n",
    "\n",
    "# save file as pickle\n",
    "\n",
    "# with open(\"gender_encoder.pkl\", \"wb\") as f:\n",
    "#     pickle.dump(label_Encoded, f)\n",
    "\n",
    "# with open(\"geo_encoder.pkl\", \"wb\") as f:\n",
    "#     pickle.dump(oneHot_encoder_geo, f)\n",
    "\n",
    "with open(\"gender_encoder.pkl\", \"rb\") as f:\n",
    "    gender_encoder = pickle.load(f)\n",
    "\n",
    "with open(\"geo_encoder.pkl\", \"rb\") as f:\n",
    "    geo_encoder = pickle.load(f)\n",
    "\n",
    "\n",
    "input_df[\"Gender_encoded\"] = gender_encoder.transform(input_df[\"Gender\"])\n",
    "input_df = input_df.drop(\"Gender\", axis=1)\n",
    "\n",
    "## oneHot encoder\n",
    "getEncoded_geo = geo_encoder.transform(input_df[[\"Geography\"]])\n",
    "encoded_geo_df = pd.DataFrame(getEncoded_geo, columns=geo_encoder.get_feature_names_out([\"Geography\"]))\n",
    "input_df = pd.concat([input_df.drop(\"Geography\", axis=1).reset_index(drop=True),\n",
    "                      encoded_geo_df.reset_index(drop=True)], axis=1)\n",
    "input_df = input_df.drop(\"Exited\", axis=1)\n",
    "\n",
    "if \"Exited\" in input_df.columns:\n",
    "    input_df = input_df.drop(\"Exited\", axis=1)\n",
    "\n",
    "scaled_input = scaler.fit_transform(input_df)\n",
    "scaled_df = pd.DataFrame( input_df, columns = input_df.columns)\n",
    "predictions = model.predict(scaled_input)\n",
    "predicted_classes = (predictions > 0.5).astype(int)\n",
    "predicted_classes\n",
    "scaled_df\n",
    "\n"
   ]
  },
  {
   "cell_type": "code",
   "execution_count": 73,
   "id": "40a1cc29",
   "metadata": {},
   "outputs": [
    {
     "data": {
      "text/plain": [
       "np.float32(0.512175)"
      ]
     },
     "execution_count": 73,
     "metadata": {},
     "output_type": "execute_result"
    }
   ],
   "source": [
    "prdiction_prob = predictions[0][0]\n",
    "prdiction_prob"
   ]
  },
  {
   "cell_type": "code",
   "execution_count": 72,
   "id": "25039d67",
   "metadata": {},
   "outputs": [
    {
     "name": "stdout",
     "output_type": "stream",
     "text": [
      "The customer is likely to churn\n"
     ]
    }
   ],
   "source": [
    "if prdiction_prob >0.5:\n",
    "    print(\"The customer is likely to churn\")\n",
    "else:\n",
    "     print(\"The customer is not likely to churn\")"
   ]
  },
  {
   "cell_type": "code",
   "execution_count": null,
   "id": "b605bac0",
   "metadata": {},
   "outputs": [
    {
     "data": {
      "text/plain": [
       "0    1\n",
       "1    2\n",
       "2    3\n",
       "dtype: int64"
      ]
     },
     "execution_count": 81,
     "metadata": {},
     "output_type": "execute_result"
    }
   ],
   "source": []
  },
  {
   "cell_type": "code",
   "execution_count": null,
   "id": "956462bd",
   "metadata": {},
   "outputs": [],
   "source": []
  }
 ],
 "metadata": {
  "kernelspec": {
   "display_name": "Python 3",
   "language": "python",
   "name": "python3"
  },
  "language_info": {
   "codemirror_mode": {
    "name": "ipython",
    "version": 3
   },
   "file_extension": ".py",
   "mimetype": "text/x-python",
   "name": "python",
   "nbconvert_exporter": "python",
   "pygments_lexer": "ipython3",
   "version": "3.11.0"
  }
 },
 "nbformat": 4,
 "nbformat_minor": 5
}
